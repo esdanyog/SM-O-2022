{
 "cells": [
  {
   "cell_type": "markdown",
   "id": "f2b95aee",
   "metadata": {},
   "source": [
    "# Estructuras básicas de progrmación"
   ]
  },
  {
   "cell_type": "markdown",
   "id": "507eb2a1",
   "metadata": {},
   "source": [
    "### Sintáxis y control de flujo"
   ]
  },
  {
   "cell_type": "code",
   "execution_count": 3,
   "id": "39c7dc6f",
   "metadata": {},
   "outputs": [
    {
     "data": {
      "text/plain": [
       "7"
      ]
     },
     "execution_count": 3,
     "metadata": {},
     "output_type": "execute_result"
    }
   ],
   "source": [
    "#Una linea por comando\n",
    "2+5"
   ]
  },
  {
   "cell_type": "code",
   "execution_count": 4,
   "id": "e416a4a0",
   "metadata": {},
   "outputs": [
    {
     "name": "stdout",
     "output_type": "stream",
     "text": [
      "1\n"
     ]
    }
   ],
   "source": [
    "a = 1\n",
    "print(a)"
   ]
  },
  {
   "cell_type": "code",
   "execution_count": 5,
   "id": "511a1cda",
   "metadata": {},
   "outputs": [
    {
     "data": {
      "text/plain": [
       "1"
      ]
     },
     "execution_count": 5,
     "metadata": {},
     "output_type": "execute_result"
    }
   ],
   "source": [
    "#También se puede poner la pura variable y se imprimirá\n",
    "a"
   ]
  },
  {
   "cell_type": "markdown",
   "id": "3e726580",
   "metadata": {},
   "source": [
    "### If - else"
   ]
  },
  {
   "cell_type": "code",
   "execution_count": 6,
   "id": "0ce51ae8",
   "metadata": {},
   "outputs": [
    {
     "name": "stdout",
     "output_type": "stream",
     "text": [
      "Flujo 2\n"
     ]
    }
   ],
   "source": [
    "condición = False\n",
    "\n",
    "if(condición == True) :\n",
    "    print(\"Flujo 1\")\n",
    "else :\n",
    "    print(\"Flujo 2\")"
   ]
  },
  {
   "cell_type": "code",
   "execution_count": 7,
   "id": "6345e7c5",
   "metadata": {},
   "outputs": [
    {
     "name": "stdout",
     "output_type": "stream",
     "text": [
      "Flujo 3\n"
     ]
    }
   ],
   "source": [
    "condición = 4\n",
    "\n",
    "if(condición == 1) :\n",
    "    print(\"Flujo 1\")\n",
    "elif(condición == 2) :\n",
    "    print(\"Flujo 2\")\n",
    "else :\n",
    "    print(\"Flujo 3\")"
   ]
  },
  {
   "cell_type": "markdown",
   "id": "ebcdcf5f",
   "metadata": {},
   "source": [
    "### Ciclos"
   ]
  },
  {
   "cell_type": "code",
   "execution_count": 8,
   "id": "9fc5e35f",
   "metadata": {},
   "outputs": [
    {
     "name": "stdout",
     "output_type": "stream",
     "text": [
      "0\n",
      "1\n",
      "2\n",
      "3\n",
      "4\n"
     ]
    }
   ],
   "source": [
    "contador = 0\n",
    "\n",
    "while(contador < 5) :\n",
    "    print(contador)\n",
    "    contador = contador + 1\n",
    "    \n",
    "#basado en condición"
   ]
  },
  {
   "cell_type": "code",
   "execution_count": 9,
   "id": "6097adb1",
   "metadata": {},
   "outputs": [
    {
     "name": "stdout",
     "output_type": "stream",
     "text": [
      "0\n",
      "1\n",
      "2\n",
      "3\n",
      "4\n"
     ]
    }
   ],
   "source": [
    "for contador in range(5) :\n",
    "    print(contador)\n",
    "    \n",
    "#basado en lista"
   ]
  },
  {
   "cell_type": "markdown",
   "id": "1adfbb35",
   "metadata": {},
   "source": [
    "### Operadores"
   ]
  },
  {
   "cell_type": "code",
   "execution_count": 10,
   "id": "f49bd26c",
   "metadata": {},
   "outputs": [],
   "source": [
    "#módulo\n",
    "# %\n",
    "#regresa el residuo de una división"
   ]
  },
  {
   "cell_type": "markdown",
   "id": "b4df1a86",
   "metadata": {},
   "source": [
    "### Booleanos"
   ]
  },
  {
   "cell_type": "code",
   "execution_count": 11,
   "id": "03a168e4",
   "metadata": {},
   "outputs": [],
   "source": [
    "b = 2\n",
    "c = 3"
   ]
  },
  {
   "cell_type": "code",
   "execution_count": 12,
   "id": "59213685",
   "metadata": {},
   "outputs": [
    {
     "data": {
      "text/plain": [
       "False"
      ]
     },
     "execution_count": 12,
     "metadata": {},
     "output_type": "execute_result"
    }
   ],
   "source": [
    "b == c \n",
    "#es igual"
   ]
  },
  {
   "cell_type": "code",
   "execution_count": 13,
   "id": "67a45798",
   "metadata": {},
   "outputs": [
    {
     "data": {
      "text/plain": [
       "True"
      ]
     },
     "execution_count": 13,
     "metadata": {},
     "output_type": "execute_result"
    }
   ],
   "source": [
    "b != c\n",
    "#es distinto"
   ]
  },
  {
   "cell_type": "code",
   "execution_count": 14,
   "id": "e924297b",
   "metadata": {},
   "outputs": [],
   "source": [
    "# <\n",
    "# >\n",
    "# <= etc"
   ]
  },
  {
   "cell_type": "markdown",
   "id": "8a6c2522",
   "metadata": {},
   "source": [
    "### Hilos"
   ]
  },
  {
   "cell_type": "code",
   "execution_count": 15,
   "id": "735b1656",
   "metadata": {},
   "outputs": [],
   "source": [
    "hilo1 = \"asdfg\""
   ]
  },
  {
   "cell_type": "code",
   "execution_count": 16,
   "id": "10f161f5",
   "metadata": {},
   "outputs": [
    {
     "name": "stdout",
     "output_type": "stream",
     "text": [
      "asdfg\n"
     ]
    }
   ],
   "source": [
    "print(hilo1)"
   ]
  },
  {
   "cell_type": "code",
   "execution_count": 17,
   "id": "1b7313b9",
   "metadata": {},
   "outputs": [],
   "source": [
    "hilo2 = \"hjkl\""
   ]
  },
  {
   "cell_type": "code",
   "execution_count": 18,
   "id": "03b25bb7",
   "metadata": {},
   "outputs": [
    {
     "data": {
      "text/plain": [
       "'asdfghjkl'"
      ]
     },
     "execution_count": 18,
     "metadata": {},
     "output_type": "execute_result"
    }
   ],
   "source": [
    "hilo1 + hilo2"
   ]
  },
  {
   "cell_type": "code",
   "execution_count": 19,
   "id": "93c59c22",
   "metadata": {},
   "outputs": [
    {
     "data": {
      "text/plain": [
       "'2'"
      ]
     },
     "execution_count": 19,
     "metadata": {},
     "output_type": "execute_result"
    }
   ],
   "source": [
    "a = 2\n",
    "str(a)\n",
    "# y de ahí ya se puede concatenar un número"
   ]
  },
  {
   "cell_type": "markdown",
   "id": "c7b34202",
   "metadata": {},
   "source": [
    "### Listas"
   ]
  },
  {
   "cell_type": "code",
   "execution_count": 20,
   "id": "36f86fe4",
   "metadata": {},
   "outputs": [],
   "source": [
    "# una lista es un objeto en donde puedes guardar distintos tipos de objetos en ella\n",
    "a = [1, 2, 3, 4, 5, 6]"
   ]
  },
  {
   "cell_type": "code",
   "execution_count": 21,
   "id": "a431eb39",
   "metadata": {},
   "outputs": [],
   "source": [
    "b = [7, 8, 9]"
   ]
  },
  {
   "cell_type": "code",
   "execution_count": 22,
   "id": "2f9446b0",
   "metadata": {},
   "outputs": [
    {
     "data": {
      "text/plain": [
       "[1, 2, 3, 4, 5, 6]"
      ]
     },
     "execution_count": 22,
     "metadata": {},
     "output_type": "execute_result"
    }
   ],
   "source": [
    "a"
   ]
  },
  {
   "cell_type": "code",
   "execution_count": 23,
   "id": "ab3bcacc",
   "metadata": {},
   "outputs": [
    {
     "data": {
      "text/plain": [
       "[1, 2, 3, 4, 5, 6, 7, 8, 9]"
      ]
     },
     "execution_count": 23,
     "metadata": {},
     "output_type": "execute_result"
    }
   ],
   "source": [
    "a + b"
   ]
  },
  {
   "cell_type": "code",
   "execution_count": 24,
   "id": "bcd5a688",
   "metadata": {},
   "outputs": [
    {
     "data": {
      "text/plain": [
       "[1, 2, 3, 4, 5, 6, 25]"
      ]
     },
     "execution_count": 24,
     "metadata": {},
     "output_type": "execute_result"
    }
   ],
   "source": [
    "a.append(25)\n",
    "a"
   ]
  },
  {
   "cell_type": "code",
   "execution_count": 25,
   "id": "a7651cf5",
   "metadata": {},
   "outputs": [
    {
     "data": {
      "text/plain": [
       "25"
      ]
     },
     "execution_count": 25,
     "metadata": {},
     "output_type": "execute_result"
    }
   ],
   "source": [
    "a.pop() \n",
    "# quita el último número default, o poner el indice de la lista"
   ]
  },
  {
   "cell_type": "code",
   "execution_count": 26,
   "id": "6eaccbae",
   "metadata": {},
   "outputs": [
    {
     "data": {
      "text/plain": [
       "[1, 2, 3, 4, 5, 6]"
      ]
     },
     "execution_count": 26,
     "metadata": {},
     "output_type": "execute_result"
    }
   ],
   "source": [
    "a"
   ]
  },
  {
   "cell_type": "code",
   "execution_count": 27,
   "id": "3f99551c",
   "metadata": {},
   "outputs": [
    {
     "data": {
      "text/plain": [
       "4"
      ]
     },
     "execution_count": 27,
     "metadata": {},
     "output_type": "execute_result"
    }
   ],
   "source": [
    "a[3]"
   ]
  },
  {
   "cell_type": "code",
   "execution_count": 28,
   "id": "71c9f4b5",
   "metadata": {},
   "outputs": [
    {
     "name": "stdout",
     "output_type": "stream",
     "text": [
      "hay un 5\n"
     ]
    }
   ],
   "source": [
    "for elemento in a :\n",
    "    if elemento == 5 :\n",
    "        print(\"hay un 5\")"
   ]
  },
  {
   "cell_type": "markdown",
   "id": "a71f2141",
   "metadata": {},
   "source": [
    "### Diccionario"
   ]
  },
  {
   "cell_type": "code",
   "execution_count": 29,
   "id": "82d507fb",
   "metadata": {},
   "outputs": [],
   "source": [
    "d = {0 : \"Elemento con llave cero\",\n",
    "    1 : \"Elemento con llave 1\"}\n",
    "# puedes llamar el objeto que quieras del diccionario por medio de llaves, que son lo de la izquierda de los dos puntos"
   ]
  },
  {
   "cell_type": "code",
   "execution_count": 30,
   "id": "ae645563",
   "metadata": {},
   "outputs": [
    {
     "data": {
      "text/plain": [
       "{0: 'Elemento con llave cero', 1: 'Elemento con llave 1'}"
      ]
     },
     "execution_count": 30,
     "metadata": {},
     "output_type": "execute_result"
    }
   ],
   "source": [
    "d"
   ]
  },
  {
   "cell_type": "code",
   "execution_count": 31,
   "id": "99ec7f79",
   "metadata": {},
   "outputs": [
    {
     "data": {
      "text/plain": [
       "'Elemento con llave 1'"
      ]
     },
     "execution_count": 31,
     "metadata": {},
     "output_type": "execute_result"
    }
   ],
   "source": [
    "d[1]"
   ]
  },
  {
   "cell_type": "markdown",
   "id": "f3203598",
   "metadata": {},
   "source": [
    "### Funciones"
   ]
  },
  {
   "cell_type": "code",
   "execution_count": 32,
   "id": "2e47a846",
   "metadata": {},
   "outputs": [],
   "source": [
    "def funcion() :\n",
    "    print(\"paso 1\")\n",
    "    print(\"paso 2\")"
   ]
  },
  {
   "cell_type": "code",
   "execution_count": 33,
   "id": "e7bcdfbb",
   "metadata": {},
   "outputs": [
    {
     "name": "stdout",
     "output_type": "stream",
     "text": [
      "paso 1\n",
      "paso 2\n"
     ]
    }
   ],
   "source": [
    "funcion()"
   ]
  },
  {
   "cell_type": "code",
   "execution_count": 34,
   "id": "b932f6a0",
   "metadata": {},
   "outputs": [],
   "source": [
    "def parametros(a,b,c) :\n",
    "    print(a)\n",
    "    print(b)\n",
    "    print(c)\n"
   ]
  },
  {
   "cell_type": "code",
   "execution_count": 35,
   "id": "4c70405a",
   "metadata": {},
   "outputs": [
    {
     "name": "stdout",
     "output_type": "stream",
     "text": [
      "erw\n",
      "rewgf\n",
      "yteh\n"
     ]
    }
   ],
   "source": [
    "parametros(\"erw\", \"rewgf\", \"yteh\")"
   ]
  },
  {
   "cell_type": "code",
   "execution_count": 36,
   "id": "0bd1836b",
   "metadata": {},
   "outputs": [],
   "source": [
    "def parametros_predefinidos(n=34) :\n",
    "    print(n)"
   ]
  },
  {
   "cell_type": "code",
   "execution_count": 37,
   "id": "51fe7662",
   "metadata": {},
   "outputs": [
    {
     "name": "stdout",
     "output_type": "stream",
     "text": [
      "34\n"
     ]
    }
   ],
   "source": [
    "parametros_predefinidos()"
   ]
  },
  {
   "cell_type": "code",
   "execution_count": 38,
   "id": "b25cf0fc",
   "metadata": {},
   "outputs": [
    {
     "name": "stdout",
     "output_type": "stream",
     "text": [
      "67\n"
     ]
    }
   ],
   "source": [
    "parametros_predefinidos(67)"
   ]
  },
  {
   "cell_type": "code",
   "execution_count": 39,
   "id": "6667a282",
   "metadata": {},
   "outputs": [],
   "source": [
    "import pandas as pd"
   ]
  },
  {
   "cell_type": "code",
   "execution_count": 40,
   "id": "e0c92147",
   "metadata": {},
   "outputs": [],
   "source": [
    "data = pd.read_excel(\"datosPE.xlsx\")\n",
    "#se convierte en dataframe"
   ]
  },
  {
   "cell_type": "code",
   "execution_count": 41,
   "id": "4503f302",
   "metadata": {},
   "outputs": [
    {
     "data": {
      "text/html": [
       "<div>\n",
       "<style scoped>\n",
       "    .dataframe tbody tr th:only-of-type {\n",
       "        vertical-align: middle;\n",
       "    }\n",
       "\n",
       "    .dataframe tbody tr th {\n",
       "        vertical-align: top;\n",
       "    }\n",
       "\n",
       "    .dataframe thead th {\n",
       "        text-align: right;\n",
       "    }\n",
       "</style>\n",
       "<table border=\"1\" class=\"dataframe\">\n",
       "  <thead>\n",
       "    <tr style=\"text-align: right;\">\n",
       "      <th></th>\n",
       "      <th>ID Persona</th>\n",
       "      <th>Peso</th>\n",
       "      <th>Estatura</th>\n",
       "    </tr>\n",
       "  </thead>\n",
       "  <tbody>\n",
       "    <tr>\n",
       "      <th>0</th>\n",
       "      <td>1</td>\n",
       "      <td>67</td>\n",
       "      <td>1.41</td>\n",
       "    </tr>\n",
       "    <tr>\n",
       "      <th>1</th>\n",
       "      <td>2</td>\n",
       "      <td>99</td>\n",
       "      <td>1.83</td>\n",
       "    </tr>\n",
       "    <tr>\n",
       "      <th>2</th>\n",
       "      <td>3</td>\n",
       "      <td>86</td>\n",
       "      <td>1.90</td>\n",
       "    </tr>\n",
       "    <tr>\n",
       "      <th>3</th>\n",
       "      <td>4</td>\n",
       "      <td>118</td>\n",
       "      <td>1.65</td>\n",
       "    </tr>\n",
       "    <tr>\n",
       "      <th>4</th>\n",
       "      <td>5</td>\n",
       "      <td>109</td>\n",
       "      <td>1.67</td>\n",
       "    </tr>\n",
       "    <tr>\n",
       "      <th>...</th>\n",
       "      <td>...</td>\n",
       "      <td>...</td>\n",
       "      <td>...</td>\n",
       "    </tr>\n",
       "    <tr>\n",
       "      <th>95</th>\n",
       "      <td>96</td>\n",
       "      <td>88</td>\n",
       "      <td>1.49</td>\n",
       "    </tr>\n",
       "    <tr>\n",
       "      <th>96</th>\n",
       "      <td>97</td>\n",
       "      <td>98</td>\n",
       "      <td>1.54</td>\n",
       "    </tr>\n",
       "    <tr>\n",
       "      <th>97</th>\n",
       "      <td>98</td>\n",
       "      <td>95</td>\n",
       "      <td>1.57</td>\n",
       "    </tr>\n",
       "    <tr>\n",
       "      <th>98</th>\n",
       "      <td>99</td>\n",
       "      <td>61</td>\n",
       "      <td>1.61</td>\n",
       "    </tr>\n",
       "    <tr>\n",
       "      <th>99</th>\n",
       "      <td>100</td>\n",
       "      <td>107</td>\n",
       "      <td>1.62</td>\n",
       "    </tr>\n",
       "  </tbody>\n",
       "</table>\n",
       "<p>100 rows × 3 columns</p>\n",
       "</div>"
      ],
      "text/plain": [
       "    ID Persona  Peso  Estatura\n",
       "0            1    67      1.41\n",
       "1            2    99      1.83\n",
       "2            3    86      1.90\n",
       "3            4   118      1.65\n",
       "4            5   109      1.67\n",
       "..         ...   ...       ...\n",
       "95          96    88      1.49\n",
       "96          97    98      1.54\n",
       "97          98    95      1.57\n",
       "98          99    61      1.61\n",
       "99         100   107      1.62\n",
       "\n",
       "[100 rows x 3 columns]"
      ]
     },
     "execution_count": 41,
     "metadata": {},
     "output_type": "execute_result"
    }
   ],
   "source": [
    "data"
   ]
  },
  {
   "cell_type": "code",
   "execution_count": 42,
   "id": "45562cff",
   "metadata": {},
   "outputs": [
    {
     "data": {
      "text/plain": [
       "Index(['ID Persona', 'Peso', 'Estatura'], dtype='object')"
      ]
     },
     "execution_count": 42,
     "metadata": {},
     "output_type": "execute_result"
    }
   ],
   "source": [
    "data.columns"
   ]
  },
  {
   "cell_type": "code",
   "execution_count": 43,
   "id": "d237e83c",
   "metadata": {},
   "outputs": [
    {
     "data": {
      "text/plain": [
       "0      67\n",
       "1      99\n",
       "2      86\n",
       "3     118\n",
       "4     109\n",
       "     ... \n",
       "95     88\n",
       "96     98\n",
       "97     95\n",
       "98     61\n",
       "99    107\n",
       "Name: Peso, Length: 100, dtype: int64"
      ]
     },
     "execution_count": 43,
     "metadata": {},
     "output_type": "execute_result"
    }
   ],
   "source": [
    "data[\"Peso\"]"
   ]
  },
  {
   "cell_type": "code",
   "execution_count": 44,
   "id": "703ae4f7",
   "metadata": {},
   "outputs": [
    {
     "data": {
      "text/html": [
       "<div>\n",
       "<style scoped>\n",
       "    .dataframe tbody tr th:only-of-type {\n",
       "        vertical-align: middle;\n",
       "    }\n",
       "\n",
       "    .dataframe tbody tr th {\n",
       "        vertical-align: top;\n",
       "    }\n",
       "\n",
       "    .dataframe thead th {\n",
       "        text-align: right;\n",
       "    }\n",
       "</style>\n",
       "<table border=\"1\" class=\"dataframe\">\n",
       "  <thead>\n",
       "    <tr style=\"text-align: right;\">\n",
       "      <th></th>\n",
       "      <th>ID Persona</th>\n",
       "      <th>Peso</th>\n",
       "      <th>Estatura</th>\n",
       "    </tr>\n",
       "  </thead>\n",
       "  <tbody>\n",
       "    <tr>\n",
       "      <th>0</th>\n",
       "      <td>1</td>\n",
       "      <td>67</td>\n",
       "      <td>1.41</td>\n",
       "    </tr>\n",
       "    <tr>\n",
       "      <th>1</th>\n",
       "      <td>2</td>\n",
       "      <td>99</td>\n",
       "      <td>1.83</td>\n",
       "    </tr>\n",
       "    <tr>\n",
       "      <th>2</th>\n",
       "      <td>3</td>\n",
       "      <td>86</td>\n",
       "      <td>1.90</td>\n",
       "    </tr>\n",
       "    <tr>\n",
       "      <th>3</th>\n",
       "      <td>4</td>\n",
       "      <td>118</td>\n",
       "      <td>1.65</td>\n",
       "    </tr>\n",
       "    <tr>\n",
       "      <th>4</th>\n",
       "      <td>5</td>\n",
       "      <td>109</td>\n",
       "      <td>1.67</td>\n",
       "    </tr>\n",
       "    <tr>\n",
       "      <th>5</th>\n",
       "      <td>6</td>\n",
       "      <td>81</td>\n",
       "      <td>1.66</td>\n",
       "    </tr>\n",
       "    <tr>\n",
       "      <th>6</th>\n",
       "      <td>7</td>\n",
       "      <td>74</td>\n",
       "      <td>1.64</td>\n",
       "    </tr>\n",
       "    <tr>\n",
       "      <th>7</th>\n",
       "      <td>8</td>\n",
       "      <td>69</td>\n",
       "      <td>1.70</td>\n",
       "    </tr>\n",
       "    <tr>\n",
       "      <th>8</th>\n",
       "      <td>9</td>\n",
       "      <td>51</td>\n",
       "      <td>1.67</td>\n",
       "    </tr>\n",
       "    <tr>\n",
       "      <th>9</th>\n",
       "      <td>10</td>\n",
       "      <td>104</td>\n",
       "      <td>1.56</td>\n",
       "    </tr>\n",
       "  </tbody>\n",
       "</table>\n",
       "</div>"
      ],
      "text/plain": [
       "   ID Persona  Peso  Estatura\n",
       "0           1    67      1.41\n",
       "1           2    99      1.83\n",
       "2           3    86      1.90\n",
       "3           4   118      1.65\n",
       "4           5   109      1.67\n",
       "5           6    81      1.66\n",
       "6           7    74      1.64\n",
       "7           8    69      1.70\n",
       "8           9    51      1.67\n",
       "9          10   104      1.56"
      ]
     },
     "execution_count": 44,
     "metadata": {},
     "output_type": "execute_result"
    }
   ],
   "source": [
    "data.head(10)\n",
    "#tambien existe .tail"
   ]
  },
  {
   "cell_type": "code",
   "execution_count": 45,
   "id": "adea6200",
   "metadata": {},
   "outputs": [
    {
     "data": {
      "text/plain": [
       "1.6610999999999998"
      ]
     },
     "execution_count": 45,
     "metadata": {},
     "output_type": "execute_result"
    }
   ],
   "source": [
    "data[\"Estatura\"].mean()"
   ]
  },
  {
   "cell_type": "code",
   "execution_count": 46,
   "id": "80d12669",
   "metadata": {},
   "outputs": [
    {
     "data": {
      "text/plain": [
       "8558"
      ]
     },
     "execution_count": 46,
     "metadata": {},
     "output_type": "execute_result"
    }
   ],
   "source": [
    "data[\"Peso\"].sum()"
   ]
  },
  {
   "cell_type": "code",
   "execution_count": 47,
   "id": "8b53bfaa",
   "metadata": {},
   "outputs": [],
   "source": [
    "data[\"Peso en libras\"] = data[\"Peso\"]*2.205"
   ]
  },
  {
   "cell_type": "code",
   "execution_count": 48,
   "id": "d48cf9fb",
   "metadata": {},
   "outputs": [],
   "source": [
    "data.to_excel(\"ejemplo_con_libras.xlsx\")"
   ]
  },
  {
   "cell_type": "code",
   "execution_count": null,
   "id": "d90094f9",
   "metadata": {},
   "outputs": [],
   "source": []
  }
 ],
 "metadata": {
  "kernelspec": {
   "display_name": "Python 3 (ipykernel)",
   "language": "python",
   "name": "python3"
  },
  "language_info": {
   "codemirror_mode": {
    "name": "ipython",
    "version": 3
   },
   "file_extension": ".py",
   "mimetype": "text/x-python",
   "name": "python",
   "nbconvert_exporter": "python",
   "pygments_lexer": "ipython3",
   "version": "3.9.12"
  }
 },
 "nbformat": 4,
 "nbformat_minor": 5
}
