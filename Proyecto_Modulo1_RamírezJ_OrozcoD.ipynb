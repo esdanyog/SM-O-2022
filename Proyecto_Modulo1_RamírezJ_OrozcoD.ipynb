{
 "cells": [
  {
   "cell_type": "markdown",
   "id": "9d3096ea",
   "metadata": {},
   "source": [
    "# El mejor portafolio de inversión"
   ]
  },
  {
   "cell_type": "markdown",
   "id": "e90ca4e1",
   "metadata": {},
   "source": [
    "<span style=\"color:gray\"> Proyecto Módulo 1 </span>\n",
    "* Joaquín Uriel Ramírez\n",
    "* Daniel Orozco"
   ]
  },
  {
   "attachments": {
    "images.jpg": {
     "image/jpeg": "[encoded data removed]"
    }
   },
   "cell_type": "markdown",
   "id": "353b5275",
   "metadata": {},
   "source": [
    "![images.jpg](attachment:images.jpg)"
   ]
  },
  {
   "cell_type": "markdown",
   "id": "eaeb0661",
   "metadata": {},
   "source": [
    "___\n",
    "## Objetivo general\n",
    "> #### Determinar la cantidad a invertir en cada una de un conjunto de acciones bursátiles con el propósito de maximizar ganancias."
   ]
  },
  {
   "cell_type": "markdown",
   "id": "b3520155",
   "metadata": {},
   "source": [
    "## Objetivos específicos\n",
    "> * Identificar las restricciones deseadas para el problema para minimizar riesgo.\n",
    "> * Investigar los rendimientos esperados de los activos.\n",
    "> * Programar el problema de optimización."
   ]
  },
  {
   "cell_type": "markdown",
   "id": "efde197e",
   "metadata": {},
   "source": [
    "## Datos\n",
    "\n",
    "### Rendimientos esperados\n",
    "\n",
    "Se seleccionaron 6 acciones con alta bursatilidad de distintos sectores. Los rendimientos esperados que fueron considerados son los precios objetivo que las calificadoras les han asignado a estas empresas para un lapso de 12 meses.\n",
    "\n",
    "1. Walmart: 16.78%\n",
    "2. Alphabet: 42.6%\n",
    "3. Disney: 43.46%\n",
    "4. Tesla: 12.19%\n",
    "5. JP Morgan: 25.19%\n",
    "6. Coca Cola: 19.13%\n",
    "*Fuente: investing.com*\n",
    "\n",
    "### Beta\n",
    "\n",
    "La Beta es una medida de volatilidad de un activo con respecto al mercado.\n",
    "* Si $ \\beta > 1 $ el activo registra mayor volatilidad que el ínidice\n",
    "* Si $ \\beta = 1 $ el activo registra la misma volatilidad que el ínidice\n",
    "* Si $ \\beta < 1 $ el activo registra menor volatilidad que el ínidice\n",
    "\n",
    "Para este portafolio se plantea $ \\beta \\leq 1 $, pues se quiere un portafolio similar al mercado, o incluso con menos volatilidad.\n",
    "\n",
    "Los precios utilizados para el cálculo de Beta fueron obtenidos del 13 de septiembre de 2021 al 13 de septiembre de 2022. Cálculo hecho en el archivo `Acciones consideradas.csv` adjuntado en la carpeta del proyecto.\n",
    "\n",
    "1. Walmart: 0.3925\n",
    "2. Alphabet: 1.3283\n",
    "3. Disney: 1.0676\n",
    "4. Tesla: 1.9019\n",
    "5. JP Morgan: 0.8720\n",
    "6. Coca Cola: 0.4653\n",
    "*Fuente: Yahoo Finance y cálculo propio*"
   ]
  },
  {
   "cell_type": "markdown",
   "id": "214e3133",
   "metadata": {},
   "source": [
    "## Modelado del problema\n",
    "\n",
    "#### Función a optimizar\n",
    "$$ \\max_{x_1,\\dots,x_6}0.1678x_{1} + 0.4260x_{2} + 0.4346x_{3} + 0.1219x_{4} + 0.2519x_{5} + 0.1913x_{6} $$\n",
    "\n",
    "#### Restricciones\n",
    "\n",
    "1. La cantidad de dinero a invertir es de 1,000,000.00 \n",
    " $$ \\sum^{6}_{i=1} x_i \\leq $1,000,000.00 $$\n",
    "2. Para evitar riesgo sistémico, no se puede invertir más de 40% en una sola acción.\n",
    "3. Por la misma razón que la restricción anterior y al ser de diferente sector cada acción se determina que se debe de invertir al menos 10% en cada una ellas.\n",
    " $$ $100,000.00 \\leq x_1 \\leq $400,000.00 $$\n",
    " $$ $100,000.00 \\leq x_2 \\leq $400,000.00 $$\n",
    " $$ $100,000.00 \\leq x_3 \\leq $400,000.00 $$\n",
    " $$ $100,000.00 \\leq x_4 \\leq $400,000.00 $$\n",
    " $$ $100,000.00 \\leq x_5 \\leq $400,000.00 $$\n",
    " $$ $100,000.00 \\leq x_6 \\leq $400,000.00 $$\n",
    "4. La Beta total del portafolio con respecto al S&P500 no debe de ser mayor a 1.\n",
    " $$ \\sum^{6}_{i=1} \\frac{1}{1000000} \\beta_i x_i \\leq 1 $$\n"
   ]
  },
  {
   "cell_type": "markdown",
   "id": "8db7a0a8",
   "metadata": {},
   "source": [
    "## Programación del problema"
   ]
  },
  {
   "cell_type": "code",
   "execution_count": 1,
   "id": "b23b3d1b",
   "metadata": {},
   "outputs": [],
   "source": [
    "# librerías\n",
    "import scipy.optimize as opt\n",
    "import numpy as np\n",
    "import sympy as sp\n",
    "import matplotlib.pyplot as plt\n",
    "%matplotlib inline\n",
    "\n",
    "# vector c de costos (en este caso como queremos maximizar, utilizamos los rendimientos negativos)\n",
    "c = np.array([-0.1678, -0.426, -0.4346, -0.1219, - 0.2519, -0.1913])\n",
    "\n",
    "# vector b de desigualdades de restricciones\n",
    "b = np.array([1000000,400000,400000,400000,400000,400000,400000,-100000,-100000,-100000,-100000,-100000,-100000,1])\n",
    "\n",
    "# matriz A de restricciones por cada variable\n",
    "A = np.array([\n",
    "    [1,1,1,1,1,1],\n",
    "    [1,0,0,0,0,0],\n",
    "    [0,1,0,0,0,0],\n",
    "    [0,0,1,0,0,0],\n",
    "    [0,0,0,1,0,0],\n",
    "    [0,0,0,0,1,0],\n",
    "    [0,0,0,0,0,1],\n",
    "    [-1,0,0,0,0,0],\n",
    "    [0,-1,0,0,0,0],\n",
    "    [0,0,-1,0,0,0],\n",
    "    [0,0,0,-1,0,0],\n",
    "    [0,0,0,0,-1,0],\n",
    "    [0,0,0,0,0,-1],\n",
    "    [(1/1000000*0.3925),(1/1000000*1.3283),(1/1000000*1.0676), (1/1000000*1.9019), (1/1000000*0.8720), (1/1000000*0.4653)]\n",
    "])"
   ]
  },
  {
   "cell_type": "code",
   "execution_count": 4,
   "id": "c452beec",
   "metadata": {},
   "outputs": [
    {
     "data": {
      "text/plain": [
       "     con: array([], dtype=float64)\n",
       "     fun: -317135.68966603465\n",
       " message: 'Optimization terminated successfully.'\n",
       "     nit: 8\n",
       "   slack: array([1.34851900e-03, 2.99999998e+05, 2.64739285e+05, 6.89407054e-04,\n",
       "       3.00000000e+05, 2.99999994e+05, 2.35260724e+05, 1.92545018e-03,\n",
       "       3.52607149e+04, 2.99999999e+05, 2.03610063e-04, 6.08262265e-03,\n",
       "       6.47392762e+04, 1.47447721e-09])\n",
       "  status: 0\n",
       " success: True\n",
       "       x: array([100000.00192545, 135260.71488074, 399999.99931059, 100000.00020361,\n",
       "       100000.00608262, 164739.27624846])"
      ]
     },
     "execution_count": 4,
     "metadata": {},
     "output_type": "execute_result"
    }
   ],
   "source": [
    "# función linprog de la librería optimize para resolver el problema de progrmación lineal\n",
    "r = opt.linprog(c,A,b)\n",
    "r"
   ]
  },
  {
   "cell_type": "code",
   "execution_count": 3,
   "id": "f17abbbd",
   "metadata": {},
   "outputs": [
    {
     "data": {
      "text/plain": [
       "0.9999999934466001"
      ]
     },
     "execution_count": 3,
     "metadata": {},
     "output_type": "execute_result"
    }
   ],
   "source": [
    "# comprobación del resultado\n",
    "100000.00192545/1000000*0.3925 + 135260.71488074/1000000*1.3283 + 399999.99987409/1000000*1.0676 + 100000.00000315/1000000*1.9019 + 100000.0000055/1000000*0.8720 + 164739.27624846/1000000*0.4653"
   ]
  },
  {
   "cell_type": "code",
   "execution_count": 13,
   "id": "8059a46d",
   "metadata": {},
   "outputs": [
    {
     "data": {
      "text/plain": [
       "[100000.0, 135261.0, 400000.0, 100000.0, 100000.0, 164739.0]"
      ]
     },
     "execution_count": 13,
     "metadata": {},
     "output_type": "execute_result"
    }
   ],
   "source": [
    "# redondeo de cifras y limpieza de datos\n",
    "rr = np.rint(r.x)\n",
    "rl = rr.tolist()\n",
    "rl"
   ]
  },
  {
   "cell_type": "markdown",
   "id": "e85557fa",
   "metadata": {},
   "source": [
    "## Resultados\n",
    "\n",
    "### Cantidad a invertir en cada activo (pesos del portafolio)\n",
    "* Walmart: 100,000 \n",
    "* Alphabet: 135,261\n",
    "* Disney: 400,000\n",
    "* Tesla: 100,000\n",
    "* JP Morgan: 100,000\n",
    "* Coca Cola: 164,793"
   ]
  },
  {
   "cell_type": "code",
   "execution_count": 15,
   "id": "576a5f90",
   "metadata": {},
   "outputs": [
    {
     "data": {
      "image/png": "[encoded data removed]",
      "text/plain": [
       "<Figure size 432x288 with 1 Axes>"
      ]
     },
     "metadata": {},
     "output_type": "display_data"
    }
   ],
   "source": [
    "labels = ['Walmart', 'Alphabet', 'Disney', 'Tesla', 'JP Morgan','Coca Cola']\n",
    "sizes = rl\n",
    "\n",
    "# Gráfico de pastel para mostrar los pesos del portafolio\n",
    "fig, ax = plt.subplots()\n",
    "ax.pie(sizes, labels=labels, autopct='%1.1f%%')\n",
    "ax.axis('equal') \n",
    "ax.set_title('Pesos del portafolio')\n",
    "\n",
    "plt.show()"
   ]
  },
  {
   "cell_type": "markdown",
   "id": "734b998b",
   "metadata": {},
   "source": [
    "## Conclusiones\n",
    "\n",
    "Se obtuvieron las cantidades a invertir para cada activo para formar un portafolio óptimo dado un rendimiento esperado para un año. Se formularon las restricciones adecuadas para minimizar riesgo; se hicieron los cálculos para obetener Beta y se otorgaron pesos mínimos y máximos para cada activo. Se programó adecuadamente con lo cual se llegó a un resultado que favorece la inversión hacia el activo Disney, así como en menor cantidad para Alphabet y Coca Cola. Se desfavorecen los activos de Walmart, Tesla y JP Morgan."
   ]
  },
  {
   "cell_type": "markdown",
   "id": "a995c806",
   "metadata": {},
   "source": [
    "___\n",
    "\n",
    "## Referencias\n",
    "* *Investing.com. (2022). Precio Objetivo): Estimaciones - investing.com. Investing.com Español. Retrieved September 24, 2022, from https://es.investing.com/equities/investor-consensus-estimates*\n",
    "* *Finance.Yahoo.com. (2022). Quote. Yahoo Finance. Retrieved September 24, 2022, from https://finance.yahoo.com/*"
   ]
  },
  {
   "cell_type": "code",
   "execution_count": null,
   "id": "dd3fdd25",
   "metadata": {},
   "outputs": [],
   "source": []
  }
 ],
 "metadata": {
  "kernelspec": {
   "display_name": "Python 3 (ipykernel)",
   "language": "python",
   "name": "python3"
  },
  "language_info": {
   "codemirror_mode": {
    "name": "ipython",
    "version": 3
   },
   "file_extension": ".py",
   "mimetype": "text/x-python",
   "name": "python",
   "nbconvert_exporter": "python",
   "pygments_lexer": "ipython3",
   "version": "3.9.12"
  }
 },
 "nbformat": 4,
 "nbformat_minor": 5
}
