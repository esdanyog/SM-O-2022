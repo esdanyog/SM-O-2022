{
 "cells": [
  {
   "cell_type": "markdown",
   "id": "6c9cab1f",
   "metadata": {},
   "source": [
    "# Presentación personal"
   ]
  },
  {
   "cell_type": "markdown",
   "id": "696d6c62",
   "metadata": {},
   "source": [
    "### Daniel Orozco"
   ]
  },
  {
   "cell_type": "markdown",
   "id": "a366622d",
   "metadata": {},
   "source": [
    "## Cosas que me gusta hacer:\n",
    "\n",
    "- Correr! Es mi actividad favorita, estoy en el *equipo de atletismo del ITESO*\n",
    "- Surfear\n",
    "- Cualquier actividad que tenga que ver con montañas, en orden de las que más amenudo a las que menos:\n",
    "1. Caminar en el bosque\n",
    "2. Andar en bici de montaña\n",
    "3. Escalar en piedra\n",
    "4. Esquiar\n",
    "- También disfruto mucho estar en compañía de amigos y de mi novia"
   ]
  },
  {
   "cell_type": "markdown",
   "id": "b0d6d5e5",
   "metadata": {},
   "source": [
    "## Covarianza"
   ]
  },
  {
   "cell_type": "markdown",
   "id": "718a7614",
   "metadata": {},
   "source": [
    "La **covarianza** es la medida de si dos variables varían (o cambian) juntas de una manera predecible.\n",
    "\n",
    "Esto podría ser una covarianza positiva , es decir, a medida que una aumenta, la otra también aumenta, o una covarianza negativa, lo que significa que a medida que una aumenta, la otra disminuye.\n",
    "\n",
    "La formula es:"
   ]
  },
  {
   "cell_type": "markdown",
   "id": "e3d716c6",
   "metadata": {},
   "source": [
    "$ cov(X,Y)=\\frac{\\sum_{^{i=1}}^{n}(X_{i}-\\overline{X})(Y_{i}-\\overline{Y})}{n-1} $"
   ]
  },
  {
   "cell_type": "markdown",
   "id": "b910389e",
   "metadata": {},
   "source": [
    "![sm](sm.jpg)\n",
    "*Eagle rock y yo*"
   ]
  }
 ],
 "metadata": {
  "kernelspec": {
   "display_name": "Python 3 (ipykernel)",
   "language": "python",
   "name": "python3"
  },
  "language_info": {
   "codemirror_mode": {
    "name": "ipython",
    "version": 3
   },
   "file_extension": ".py",
   "mimetype": "text/x-python",
   "name": "python",
   "nbconvert_exporter": "python",
   "pygments_lexer": "ipython3",
   "version": "3.9.12"
  }
 },
 "nbformat": 4,
 "nbformat_minor": 5
}
