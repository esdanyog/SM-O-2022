{
 "cells": [
  {
   "cell_type": "markdown",
   "metadata": {},
   "source": [
    "# Tarea - Programación lineal \n",
    "## Daniel Orozco"
   ]
  },
  {
   "cell_type": "markdown",
   "metadata": {},
   "source": [
    "### Diseño de la Dieta Óptima\n",
    "\n",
    "Se quiere producir comida para gatos de la manera más barata, no obstante se debe también asegurar que se cumplan los datos requeridos de analisis nutricional. Por lo que se quiere variar la cantidad de cada ingrediente para cumplir con los estandares nutricionales. Los requisitos que se tienen es que en $100$ gramos, se deben tener **por lo menos** $8$ gramos de proteína y $6$ gramos de grasa. Así mismo, no se debe tener más de $2$ gramos de fibra y $0.4$ gramos de sal.  \n",
    "\n",
    "Los datos nutricionales se pueden obtener de la siguiente tabla:\n",
    "\n",
    "Ingrediente|Proteína|Grasa|Fibra|Sal\n",
    ":----|----|----|----|----\n",
    "Pollo|  10.0%|08.0%|00.1%|00.2%\n",
    "Carne|  20.0%|10.0%|00.5%|00.5%\n",
    "Cordero|15.0%|11.0%|00.5%|00.7%\n",
    "Arroz|  00.0%|01.0%|10.0%|00.2%\n",
    "Trigo|  04.0%|01.0%|15.0%|00.8%\n",
    "Gel|    00.0%|00.0%|00.0%|00.0%\n",
    "\n",
    "Los costos de cada producto son:\n",
    "\n",
    "Ingrediente|Costo por gramo\n",
    ":----|----\n",
    "Pollo|$\\$$0.013\n",
    "Carne|$\\$$0.008\n",
    "Cordero|$\\$$0.010\n",
    "Arroz|$\\$$0.002\n",
    "Trigo|$\\$$0.005\n",
    "Gel|$\\$$0.001    \n",
    "\n",
    "Lo que se busca optimizar en este caso es la cantidad de productos que se debe utilizar en la comida de gato, minimizando el costo total. Para simplificar la notación use las siguientes variables: \n",
    "\n",
    "+ $x_1:$ Gramos de pollo  \n",
    "+ $x_2:$ Gramos de carne  \n",
    "+ $x_3:$ Gramos de cordero  \n",
    "+ $x_4:$ Gramos de arroz  \n",
    "+ $x_5:$ Gramos de trigo  \n",
    "+ $x_6:$ Gramos de gel\n",
    "\n",
    "La tarea consiste en plantear el problemade programación lineal que permita satisfacer las necesidades alimenticias del gato al tiempo que minimice el costo total y resolverlo con `linprog`."
   ]
  },
  {
   "cell_type": "markdown",
   "metadata": {},
   "source": [
    "$$ min 0.013x_1 + 0.008x_2 + 0.01x_3 + 0.002x_4 + 0.005x_5 + 0.001x_6 $$\n",
    "\n",
    "$$ c.t. $$\n",
    "$$ x_1 + x_2 + x_3 + x_4 + x_5 + x_6 = 100 $$\n",
    "$$ 0.1x_1 + 0.2x_2 + 0.15x_3 + 0.00x_4 + 0.04x_5 + 0.00x_6 >= 8 $$\n",
    "$$ 0.08x_1 + 0.1x_2 + 0.11x_3 + 0.01x_4 + 0.01x_5 + 0.00x_6 >= 6 $$\n",
    "$$ 0.001x_1 + 0.005x_2 + 0.005x_3 + 0.1x_4 + 0.15x_5 + 0.00x_6 <= 2 $$\n",
    "$$ 0.002x_1 + 0.005x_2 + 0.007x_3 + 0.002x_4 + 0.008x_5 + 0.00x_6 <= 8 $$"
   ]
  },
  {
   "cell_type": "code",
   "execution_count": 10,
   "metadata": {},
   "outputs": [
    {
     "data": {
      "text/plain": [
       "     con: array([], dtype=float64)\n",
       "     fun: 0.5200000000697095\n",
       " message: 'Optimization terminated successfully.'\n",
       "     nit: 8\n",
       "   slack: array([5.95815379e-08, 4.00000000e+00, 3.39683837e-11, 1.70000000e+00,\n",
       "       7.70000000e+00])\n",
       "  status: 0\n",
       " success: True\n",
       "       x: array([6.05131701e-10, 6.00000000e+01, 1.95075012e-09, 6.06996729e-10,\n",
       "       3.51304692e-10, 4.00000001e+01])"
      ]
     },
     "execution_count": 10,
     "metadata": {},
     "output_type": "execute_result"
    }
   ],
   "source": [
    "import numpy as np\n",
    "import scipy.optimize as opt\n",
    "\n",
    "c = np.array([.013,\n",
    "             .008,\n",
    "             .01,\n",
    "             .002,\n",
    "             .005,\n",
    "             .001])\n",
    "\n",
    "A = np.array([\n",
    "    [-1,-1,-1,-1,-1,-1],\n",
    "    [-0.1,-0.2,-0.15,-0.00,-0.04,-0.00],\n",
    "    [-0.08,-0.1,-0.11,-0.01,-0.01,-0.00],\n",
    "    [0.001,0.005,0.005,0.1,0.15,0.00],\n",
    "    [0.002,0.005,0.007,0.002,0.008,0.00]])\n",
    "\n",
    "b = np.array([-100,\n",
    "             -8,\n",
    "             -6,\n",
    "             2,\n",
    "             8])\n",
    "\n",
    "opt.linprog(c,A_ub=A,b_ub=b)\n"
   ]
  },
  {
   "cell_type": "markdown",
   "metadata": {},
   "source": [
    "La solución óptima para minimizar costos es ponerle 60 gramos de carne y 40 gramos de gel por cada 100 gramos del alimento para gatos."
   ]
  },
  {
   "cell_type": "code",
   "execution_count": null,
   "metadata": {},
   "outputs": [],
   "source": []
  },
  {
   "cell_type": "markdown",
   "metadata": {},
   "source": [
    "### Problema de distribución de energía eléctrica\n",
    "\n",
    "La Comisión Federal de Electricidad **(CFE)** dispone de cuatro plantas de generación para satisfacer la demanda diaria eléctrica en cuatro ciudades, Guadalajara, León y Morelia. Las plantas $1$, $2$ y $3$ pueden satisfacer $80$, $40$ y $60$ millones de KW al día respectivamente. Las necesidades de las ciudades de Guadalajara, León y Morelia son de $70$, $40$ y $70$ millones de Kw al día respectivamente. \n",
    "\n",
    "\n",
    "Los costos asociados al envío de suministro energético por cada millón de Kw entre cada planta y cada ciudad son los registrados en la siguiente tabla. \n",
    "\n",
    "-|Guadalajara|León|Morelia\n",
    ":----|----|----|----\n",
    "Planta 1|5|2|7\n",
    "Planta 2|3|6|6\n",
    "Planta 3|6|1|2\n",
    "\n",
    "Y por último, las restricciones del problema, van a estar dadas por las capacidades de oferta y demanda de cada planta (en millones de KW) y cada ciudad.\n",
    "\n",
    "Para simplificar la notación use las siguientes variables:\n",
    "\n",
    "+ $x_1$: Kw (en millones) distribuidos de la Planta 1 a Guadalajara\n",
    "+ $x_2$: Kw (en millones) distribuidos de la Planta 1 a León\n",
    "+ $x_3$: Kw (en millones) distribuidos de la Planta 1 a Morelia\n",
    "+ $x_4$: Kw (en millones) distribuidos de la Planta 2 a Guadalajara\n",
    "+ $x_5$: Kw (en millones) distribuidos de la Planta 2 a León\n",
    "+ $x_6$: Kw (en millones) distribuidos de la Planta 2 a Morelia\n",
    "+ $x_7$: Kw (en millones) distribuidos de la Planta 3 a Guadalajara\n",
    "+ $x_8$: Kw (en millones) distribuidos de la Planta 3 a León\n",
    "+ $x_9$: Kw (en millones) distribuidos de la Planta 3 a Morelia\n",
    "\n",
    "La tarea consiste en plantear el problema de programación lineal que permita satisfacer las necesidades de todas las ciudades al tiempo que minimice los costos asociados a la distribución y resolverlo con `linprog`."
   ]
  },
  {
   "cell_type": "markdown",
   "metadata": {},
   "source": [
    "$$ min 5x_1 + 2x_2 + 7x_3 + 3x_4 + 6x_5 + 6x_6 + 6x_7 + 1x_8 + 2x_9 $$\n",
    "\n",
    "$$ c.t. $$\n",
    "$$ x_1 + x_2 + x_3 <= 80 $$\n",
    "$$ x_4 + x_5 + x_6 <= 40 $$\n",
    "$$ x_7 + x_8 + x_9 <= 60 $$\n",
    "$$ x_1 + x_4 + x_7 >= 70 $$\n",
    "$$ x_2 + x_5 + x_8 >= 40 $$\n",
    "$$ x_3 + x_6 + x_9 >= 70 $$"
   ]
  },
  {
   "cell_type": "code",
   "execution_count": 4,
   "metadata": {},
   "outputs": [
    {
     "data": {
      "text/plain": [
       "     con: array([], dtype=float64)\n",
       "     fun: 539.9999999945555\n",
       " message: 'Optimization terminated successfully.'\n",
       "     nit: 6\n",
       "   slack: array([ 8.82408813e-10,  4.27498037e-10,  6.52505605e-10, -7.68807240e-10,\n",
       "       -4.24719815e-10, -7.68878294e-10])\n",
       "  status: 0\n",
       " success: True\n",
       "       x: array([3.00000000e+01, 4.00000000e+01, 1.00000000e+01, 4.00000000e+01,\n",
       "       4.66958755e-11, 6.07352053e-12, 2.20740129e-11, 2.37487168e-11,\n",
       "       6.00000000e+01])"
      ]
     },
     "execution_count": 4,
     "metadata": {},
     "output_type": "execute_result"
    }
   ],
   "source": [
    "c = np.array([5,\n",
    "             2,\n",
    "             7,\n",
    "             3,\n",
    "             6,\n",
    "             6,\n",
    "             6,\n",
    "             1,\n",
    "             2])\n",
    "\n",
    "A = np.array([\n",
    "    [1,1,1,0,0,0,0,0,0],\n",
    "    [0,0,0,1,1,1,0,0,0],\n",
    "    [0,0,0,0,0,0,1,1,1],\n",
    "    [-1,0,0,-1,0,0,-1,0,0],\n",
    "    [0,-1,0,0,-1,0,0,-1,0],\n",
    "    [0,0,-1,0,0,-1,0,0,-1],])\n",
    "\n",
    "b = np.array([80,\n",
    "             40,\n",
    "             60,\n",
    "             -70,\n",
    "             -40,\n",
    "             -70])\n",
    "\n",
    "opt.linprog(c,A_ub=A,b_ub=b)\n"
   ]
  },
  {
   "cell_type": "markdown",
   "metadata": {},
   "source": [
    "Para optimizar costos, de la planta 1 se le deberá proveer 30 kW a Guadalajara, 40 kW a León y 10 kW a Morelia. De la planta 2, se le deberá proveer 40 kW a Guadalajara. De la planta 3 se le deberá proveer 60 kW a Morelia."
   ]
  },
  {
   "cell_type": "code",
   "execution_count": null,
   "metadata": {},
   "outputs": [],
   "source": []
  }
 ],
 "metadata": {
  "kernelspec": {
   "display_name": "Python 3 (ipykernel)",
   "language": "python",
   "name": "python3"
  },
  "language_info": {
   "codemirror_mode": {
    "name": "ipython",
    "version": 3
   },
   "file_extension": ".py",
   "mimetype": "text/x-python",
   "name": "python",
   "nbconvert_exporter": "python",
   "pygments_lexer": "ipython3",
   "version": "3.9.12"
  }
 },
 "nbformat": 4,
 "nbformat_minor": 2
}
