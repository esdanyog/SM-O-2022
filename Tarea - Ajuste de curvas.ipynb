{
 "cells": [
  {
   "cell_type": "markdown",
   "metadata": {},
   "source": [
    "# Tarea - Ajuste de curvas \n",
    "## Daniel Orozco"
   ]
  },
  {
   "cell_type": "code",
   "execution_count": 1,
   "metadata": {},
   "outputs": [],
   "source": [
    "import numpy as np\n",
    "import pandas as pd\n",
    "import matplotlib.pyplot as plt\n",
    "%matplotlib inline\n",
    "import scipy.optimize as opt"
   ]
  },
  {
   "cell_type": "markdown",
   "metadata": {},
   "source": [
    "---\n",
    "### Problema 1\n",
    "\n",
    "Los siguientes datos representan el costo en dólares de la electricidad según Western Electricity Coordinating Council desde el 2014 (y su pronóstico para el 2040)\n",
    "\n",
    "Tomado de:\n",
    "https://www.quandl.com/data/EIA/AEO_2016_REF_NO_CPP_PRCE_NA_COMM_NA_ELC_NA_WECCRKS_NCNTPKWH_A-Electricity-End-Use-Prices-Commercial-Western-Electricity-Coordinating-Council-Rockies-No-CPP-AEO2016"
   ]
  },
  {
   "cell_type": "code",
   "execution_count": 2,
   "metadata": {},
   "outputs": [],
   "source": [
    "# Datos extraidos de la página de quandl\n",
    "data = np.array([10.051101,  9.259127,  9.444813,  9.557723,  9.977324, 10.298326,\n",
    "       10.447217, 10.550506, 10.590784, 10.657418, 10.743085, 10.831965,\n",
    "       10.988435, 11.153055, 11.313326, 11.557165, 11.860136, 12.122511,\n",
    "       12.356448, 12.611391, 12.814569, 13.111372, 13.357134, 13.559012,\n",
    "       13.85861 , 14.135924, 14.436149])"
   ]
  },
  {
   "cell_type": "markdown",
   "metadata": {},
   "source": [
    "1. Ajuste estos datos a polinomios de grado 1 hasta 3 (los datos en $x$ corresponden a los años de 2014 a 2040, sin embargo son valores muy grandes para elevarlos a una potencia, use una representación para estos años, por ejemplo $2014 \\rightarrow 0$ y $2040\\rightarrow 26$).\n",
    "\n",
    "2. Muestre las tres curvas ajustadas junto a los datos de los costos en un solo gráfico"
   ]
  },
  {
   "cell_type": "code",
   "execution_count": 3,
   "metadata": {},
   "outputs": [
    {
     "data": {
      "image/png": "[encoded data removed]",
      "text/plain": [
       "<Figure size 432x288 with 1 Axes>"
      ]
     },
     "metadata": {
      "needs_background": "light"
     },
     "output_type": "display_data"
    }
   ],
   "source": [
    "x = np.linspace(0, 26, 27)\n",
    "y = data\n",
    "plt.figure()\n",
    "plt.scatter(x,y)\n",
    "plt.grid()"
   ]
  },
  {
   "cell_type": "code",
   "execution_count": 4,
   "metadata": {},
   "outputs": [],
   "source": [
    "def funcion_de_costo_1(beta, X, y) :\n",
    "    \n",
    "    beta = np.reshape(beta, [2,-1])\n",
    "    pred = X @ beta\n",
    "    costo = (y-pred).T @ (y-pred)\n",
    "    return costo[0,0]\n",
    "\n",
    "def funcion_de_costo_2(beta, X, y) :\n",
    "    \n",
    "    beta = np.reshape(beta, [3,-1])\n",
    "    pred = X @ beta\n",
    "    costo = (y-pred).T @ (y-pred)\n",
    "    return costo[0,0]\n",
    "\n",
    "def funcion_de_costo_3(beta, X, y) :\n",
    "    \n",
    "    beta = np.reshape(beta, [4,-1])\n",
    "    pred = X @ beta\n",
    "    costo = (y-pred).T @ (y-pred)\n",
    "    return costo[0,0]"
   ]
  },
  {
   "cell_type": "code",
   "execution_count": 5,
   "metadata": {},
   "outputs": [],
   "source": [
    "n = len(y)\n",
    "ones = np.ones([n,1])\n",
    "\n",
    "y = np.reshape(y, [n,-1])\n",
    "x_1 = np.reshape(x, [n,-1])\n",
    "x_2 = np.reshape(x**2, [n,-1])\n",
    "x_3 = np.reshape(x**3, [n,-1])"
   ]
  },
  {
   "cell_type": "code",
   "execution_count": 6,
   "metadata": {},
   "outputs": [
    {
     "data": {
      "text/plain": [
       "      fun: 2.370488951817882\n",
       " hess_inv: array([[ 0.07010582, -0.00396825],\n",
       "       [-0.00396825,  0.00030525]])\n",
       "      jac: array([5.42402267e-06, 7.83801079e-06])\n",
       "  message: 'Optimization terminated successfully.'\n",
       "     nfev: 15\n",
       "      nit: 3\n",
       "     njev: 5\n",
       "   status: 0\n",
       "  success: True\n",
       "        x: array([9.11567668, 0.18667054])"
      ]
     },
     "execution_count": 6,
     "metadata": {},
     "output_type": "execute_result"
    }
   ],
   "source": [
    "# grado 1\n",
    "beta_inicial_1 = np.random.rand(2)\n",
    "X_1 = np.hstack((ones, x_1))\n",
    "funcion_de_costo_1(beta_inicial_1, X_1, y)\n",
    "\n",
    "sol_1 = opt.minimize(funcion_de_costo_1,\n",
    "                   beta_inicial_1,\n",
    "                   args=(X_1,y))\n",
    "sol_1"
   ]
  },
  {
   "cell_type": "code",
   "execution_count": 7,
   "metadata": {},
   "outputs": [
    {
     "data": {
      "text/plain": [
       "      fun: 0.8443845194020215\n",
       " hess_inv: array([[ 1.44243157e-01, -2.17596422e-02,  6.84288668e-04],\n",
       "       [-2.17596422e-02,  4.57494601e-03, -1.64219621e-04],\n",
       "       [ 6.84288668e-04, -1.64219621e-04,  6.31612151e-06]])\n",
       "      jac: array([2.75671482e-07, 5.34206629e-06, 1.13517046e-04])\n",
       "  message: 'Desired error not necessarily achieved due to precision loss.'\n",
       "     nfev: 136\n",
       "      nit: 9\n",
       "     njev: 31\n",
       "   status: 2\n",
       "  success: False\n",
       "        x: array([9.59128645e+00, 7.25241274e-02, 4.39024724e-03])"
      ]
     },
     "execution_count": 7,
     "metadata": {},
     "output_type": "execute_result"
    }
   ],
   "source": [
    "# grado 2\n",
    "beta_inicial_2 = np.random.rand(3)\n",
    "X_2 = np.hstack((ones, x_1, x_2))\n",
    "funcion_de_costo_2(beta_inicial_2, X_2, y)\n",
    "\n",
    "sol_2 = opt.minimize(funcion_de_costo_2,\n",
    "                   beta_inicial_2,\n",
    "                   args=(X_2,y))\n",
    "sol_2"
   ]
  },
  {
   "cell_type": "code",
   "execution_count": 8,
   "metadata": {},
   "outputs": [
    {
     "data": {
      "text/plain": [
       "      fun: 0.840434669657377\n",
       " hess_inv: array([[ 2.27242124e-01, -6.41070436e-02,  4.83390523e-03,\n",
       "        -1.06401988e-04],\n",
       "       [-6.41070436e-02,  2.62147398e-02, -2.28522537e-03,\n",
       "         5.43889291e-05],\n",
       "       [ 4.83390523e-03, -2.28522537e-03,  2.14212764e-04,\n",
       "        -5.33113727e-06],\n",
       "       [-1.06401988e-04,  5.43889291e-05, -5.33113727e-06,\n",
       "         1.36707611e-07]])\n",
       "      jac: array([ 4.83542681e-06,  1.40815973e-05, -2.36034393e-05, -2.52567232e-04])\n",
       "  message: 'Desired error not necessarily achieved due to precision loss.'\n",
       "     nfev: 202\n",
       "      nit: 9\n",
       "     njev: 38\n",
       "   status: 2\n",
       "  success: False\n",
       "        x: array([9.56752310e+00, 8.46496827e-02, 3.20206192e-03, 3.04663111e-05])"
      ]
     },
     "execution_count": 8,
     "metadata": {},
     "output_type": "execute_result"
    }
   ],
   "source": [
    "# grado 3\n",
    "beta_inicial_3 = np.random.rand(4)\n",
    "X_3 = np.hstack((ones, x_1, x_2, x_3))\n",
    "funcion_de_costo_3(beta_inicial_3, X_3, y)\n",
    "\n",
    "sol_3 = opt.minimize(funcion_de_costo_3,\n",
    "                   beta_inicial_3,\n",
    "                   args=(X_3,y))\n",
    "sol_3"
   ]
  },
  {
   "cell_type": "code",
   "execution_count": 9,
   "metadata": {},
   "outputs": [],
   "source": [
    "y_pred_1 = 9.11567633 + 0.18667056*x\n",
    "y_pred_2 = 9.59128988 + 7.25235953e-02*x + 4.39027583e-03*x**2\n",
    "y_pred_3 = 9.56629019 + 8.49363829e-02*x + .00318277955*x**2 + .0000308596606*x**3"
   ]
  },
  {
   "cell_type": "code",
   "execution_count": 10,
   "metadata": {},
   "outputs": [
    {
     "data": {
      "image/png": "[encoded data removed]",
      "text/plain": [
       "<Figure size 432x288 with 1 Axes>"
      ]
     },
     "metadata": {
      "needs_background": "light"
     },
     "output_type": "display_data"
    }
   ],
   "source": [
    "plt.figure()\n",
    "plt.scatter(x,y)\n",
    "plt.plot(x, y_pred_1, \"r\")\n",
    "plt.plot(x, y_pred_2, \"g\")\n",
    "plt.plot(x, y_pred_3, \"b\") \n",
    "plt.grid()"
   ]
  },
  {
   "cell_type": "markdown",
   "metadata": {},
   "source": [
    "---"
   ]
  },
  {
   "cell_type": "markdown",
   "metadata": {},
   "source": [
    "___\n",
    "### Problema 2\n",
    "\n",
    "El archivo `population_data.csv` contiene información histórica anual de México relativa a la población, nacimientos y muertes desde el año 1950 hasta el año 2015. La primer columna corresponde a los años, la segunda a la población, la tercera a los nacimientos y la última a los decesos.\n",
    "\n",
    "Tomado de: https://en.wikipedia.org/wiki/Demographics_of_Mexico.\n",
    "\n",
    "Importe estos datos usando la función `read_csv` del paquete `pandas`\n",
    "\n",
    "1. Usando los años como variable independiente $x$ y la población como variable dependiente $y$, ajustar polinomios de grado 1 hasta grado 3.\n",
    "\n",
    "    * Mostrar en un solo gráfico los datos de población contra los años, y los polinomios ajustados.\n",
    "\n",
    "    * Graficar el error cuadrático acumulado contra el número de términos.\n",
    "\n",
    "2. Repetir el punto 1 usando los nacimientos como variable dependiente $y$. Grafique las curvas ajustadas junto con los datos de nacimientos. Vea en un gráfico el error acumulado."
   ]
  },
  {
   "cell_type": "markdown",
   "metadata": {},
   "source": [
    "---"
   ]
  },
  {
   "cell_type": "code",
   "execution_count": 11,
   "metadata": {},
   "outputs": [
    {
     "data": {
      "text/html": [
       "<div>\n",
       "<style scoped>\n",
       "    .dataframe tbody tr th:only-of-type {\n",
       "        vertical-align: middle;\n",
       "    }\n",
       "\n",
       "    .dataframe tbody tr th {\n",
       "        vertical-align: top;\n",
       "    }\n",
       "\n",
       "    .dataframe thead th {\n",
       "        text-align: right;\n",
       "    }\n",
       "</style>\n",
       "<table border=\"1\" class=\"dataframe\">\n",
       "  <thead>\n",
       "    <tr style=\"text-align: right;\">\n",
       "      <th></th>\n",
       "      <th>Year</th>\n",
       "      <th>Poblacion</th>\n",
       "      <th>Nacimientos</th>\n",
       "      <th>Decesos</th>\n",
       "    </tr>\n",
       "  </thead>\n",
       "  <tbody>\n",
       "    <tr>\n",
       "      <th>61</th>\n",
       "      <td>2011</td>\n",
       "      <td>115683</td>\n",
       "      <td>2586287</td>\n",
       "      <td>590693</td>\n",
       "    </tr>\n",
       "    <tr>\n",
       "      <th>62</th>\n",
       "      <td>2012</td>\n",
       "      <td>117054</td>\n",
       "      <td>2498880</td>\n",
       "      <td>602354</td>\n",
       "    </tr>\n",
       "    <tr>\n",
       "      <th>63</th>\n",
       "      <td>2013</td>\n",
       "      <td>118395</td>\n",
       "      <td>2478889</td>\n",
       "      <td>623599</td>\n",
       "    </tr>\n",
       "    <tr>\n",
       "      <th>64</th>\n",
       "      <td>2014</td>\n",
       "      <td>119713</td>\n",
       "      <td>2463420</td>\n",
       "      <td>633641</td>\n",
       "    </tr>\n",
       "    <tr>\n",
       "      <th>65</th>\n",
       "      <td>2015</td>\n",
       "      <td>121005</td>\n",
       "      <td>2353596</td>\n",
       "      <td>655694</td>\n",
       "    </tr>\n",
       "  </tbody>\n",
       "</table>\n",
       "</div>"
      ],
      "text/plain": [
       "    Year  Poblacion  Nacimientos  Decesos\n",
       "61  2011     115683      2586287   590693\n",
       "62  2012     117054      2498880   602354\n",
       "63  2013     118395      2478889   623599\n",
       "64  2014     119713      2463420   633641\n",
       "65  2015     121005      2353596   655694"
      ]
     },
     "execution_count": 11,
     "metadata": {},
     "output_type": "execute_result"
    }
   ],
   "source": [
    "pdata = pd.read_csv(\"population_data.csv\")\n",
    "pdata.tail()"
   ]
  },
  {
   "cell_type": "code",
   "execution_count": 12,
   "metadata": {},
   "outputs": [],
   "source": [
    "#población\n",
    "y0 = pdata[\"Poblacion\"]\n",
    "y = np.array(y0)\n",
    "n = len(y)\n",
    "x = np.linspace(0, n-1, n)"
   ]
  },
  {
   "cell_type": "code",
   "execution_count": 13,
   "metadata": {},
   "outputs": [],
   "source": [
    "n = len(y)\n",
    "ones = np.ones([n,1])\n",
    "\n",
    "y = np.reshape(y, [n,-1])\n",
    "x_1 = np.reshape(x, [n,-1])\n",
    "x_2 = np.reshape(x**2, [n,-1])\n",
    "x_3 = np.reshape(x**3, [n,-1])"
   ]
  },
  {
   "cell_type": "code",
   "execution_count": 14,
   "metadata": {},
   "outputs": [
    {
     "data": {
      "text/plain": [
       "      fun: 212137169.54473728\n",
       " hess_inv: array([[ 1.54575521e-06, -1.18107172e-06],\n",
       "       [-1.18107172e-06,  1.36020028e-06]])\n",
       "      jac: array([0., 0.])\n",
       "  message: 'Optimization terminated successfully.'\n",
       "     nfev: 99\n",
       "      nit: 11\n",
       "     njev: 33\n",
       "   status: 0\n",
       "  success: True\n",
       "        x: array([24138.01061649,  1543.97352429])"
      ]
     },
     "execution_count": 14,
     "metadata": {},
     "output_type": "execute_result"
    }
   ],
   "source": [
    "# grado 1\n",
    "beta_inicial_1 = np.random.rand(2)\n",
    "X_1 = np.hstack((ones, x_1))\n",
    "funcion_de_costo_1(beta_inicial_1, X_1, y)\n",
    "\n",
    "sol_1 = opt.minimize(funcion_de_costo_1,\n",
    "                   beta_inicial_1,\n",
    "                   args=(X_1,y))\n",
    "sol_1"
   ]
  },
  {
   "cell_type": "code",
   "execution_count": 15,
   "metadata": {},
   "outputs": [
    {
     "data": {
      "text/plain": [
       "      fun: 210941621.44631422\n",
       " hess_inv: array([[ 4.58419456e-02, -2.92371390e-03,  3.79839682e-05],\n",
       "       [-2.92371390e-03,  2.71241573e-04, -4.04050473e-06],\n",
       "       [ 3.79839682e-05, -4.04050473e-06,  6.44272219e-08]])\n",
       "      jac: array([0., 0., 0.])\n",
       "  message: 'Optimization terminated successfully.'\n",
       "     nfev: 76\n",
       "      nit: 10\n",
       "     njev: 19\n",
       "   status: 0\n",
       "  success: True\n",
       "        x: array([2.44255828e+04, 1.51701372e+03, 4.14765801e-01])"
      ]
     },
     "execution_count": 15,
     "metadata": {},
     "output_type": "execute_result"
    }
   ],
   "source": [
    "# grado 2\n",
    "beta_inicial_2 = np.random.rand(3)\n",
    "X_2 = np.hstack((ones, x_1, x_2))\n",
    "funcion_de_costo_2(beta_inicial_2, X_2, y)\n",
    "\n",
    "sol_2 = opt.minimize(funcion_de_costo_2,\n",
    "                   beta_inicial_2,\n",
    "                   args=(X_2,y))\n",
    "sol_2"
   ]
  },
  {
   "cell_type": "code",
   "execution_count": 16,
   "metadata": {},
   "outputs": [
    {
     "data": {
      "text/plain": [
       "      fun: 25240442.647678778\n",
       " hess_inv: array([[ 1.08444693e-01, -1.24112731e-02,  3.78926999e-04,\n",
       "        -3.37473092e-06],\n",
       "       [-1.24112731e-02,  1.95479689e-03, -6.78474185e-05,\n",
       "         6.47904619e-07],\n",
       "       [ 3.78926999e-04, -6.78474185e-05,  2.52028678e-06,\n",
       "        -2.51115033e-08],\n",
       "       [-3.37473092e-06,  6.47904619e-07, -2.51115033e-08,\n",
       "         2.57559768e-10]])\n",
       "      jac: array([0., 0., 0., 0.])\n",
       "  message: 'Optimization terminated successfully.'\n",
       "     nfev: 60\n",
       "      nit: 10\n",
       "     njev: 12\n",
       "   status: 0\n",
       "  success: True\n",
       "        x: array([ 2.84777821e+04,  7.39076313e+02,  3.05649582e+01, -3.09232630e-01])"
      ]
     },
     "execution_count": 16,
     "metadata": {},
     "output_type": "execute_result"
    }
   ],
   "source": [
    "# grado 3\n",
    "beta_inicial_3 = np.random.rand(4)\n",
    "X_3 = np.hstack((ones, x_1, x_2, x_3))\n",
    "funcion_de_costo_3(beta_inicial_3, X_3, y)\n",
    "\n",
    "sol_3 = opt.minimize(funcion_de_costo_3,\n",
    "                   beta_inicial_3,\n",
    "                   args=(X_3,y))\n",
    "sol_3"
   ]
  },
  {
   "cell_type": "code",
   "execution_count": 17,
   "metadata": {},
   "outputs": [],
   "source": [
    "y_pred_1 = 24138.023373 + 1543.97324206*x\n",
    "y_pred_2 = 2.44256125e+04 + 1.51701202e+03*x + 4.14786622e-01*x**2\n",
    "y_pred_3 = 2.84777438e+04 + 7.39080553e+02*x + 3.05648309e+01*x**2 + -3.09231508e-01*x**3"
   ]
  },
  {
   "cell_type": "code",
   "execution_count": 18,
   "metadata": {},
   "outputs": [
    {
     "data": {
      "image/png": "[encoded data removed]",
      "text/plain": [
       "<Figure size 432x288 with 1 Axes>"
      ]
     },
     "metadata": {
      "needs_background": "light"
     },
     "output_type": "display_data"
    }
   ],
   "source": [
    "plt.figure()\n",
    "plt.scatter(x,y)\n",
    "plt.plot(x, y_pred_1, \"r\")\n",
    "plt.plot(x, y_pred_2, \"g\")\n",
    "plt.plot(x, y_pred_3, \"b\") \n",
    "plt.grid()"
   ]
  },
  {
   "cell_type": "code",
   "execution_count": 19,
   "metadata": {},
   "outputs": [],
   "source": [
    "# nacimientos\n",
    "y0 = pdata[\"Nacimientos\"]\n",
    "y = np.array(y0)\n",
    "y = np.reshape(y, [n,-1])"
   ]
  },
  {
   "cell_type": "code",
   "execution_count": 20,
   "metadata": {},
   "outputs": [
    {
     "data": {
      "text/plain": [
       "      fun: 4737913011184.608\n",
       " hess_inv: array([[ 1.99850127e-02, -4.57971758e-04],\n",
       "       [-4.57971758e-04,  1.58807797e-05]])\n",
       "      jac: array([0., 0.])\n",
       "  message: 'Optimization terminated successfully.'\n",
       "     nfev: 51\n",
       "      nit: 7\n",
       "     njev: 17\n",
       "   status: 0\n",
       "  success: True\n",
       "        x: array([1562781.60084032,   21981.12191327])"
      ]
     },
     "execution_count": 20,
     "metadata": {},
     "output_type": "execute_result"
    }
   ],
   "source": [
    "# grado 1\n",
    "beta_inicial_1 = np.random.rand(2)\n",
    "X_1 = np.hstack((ones, x_1))\n",
    "funcion_de_costo_1(beta_inicial_1, X_1, y)\n",
    "\n",
    "sol_1 = opt.minimize(funcion_de_costo_1,\n",
    "                   beta_inicial_1,\n",
    "                   args=(X_1,y))\n",
    "sol_1"
   ]
  },
  {
   "cell_type": "code",
   "execution_count": 21,
   "metadata": {},
   "outputs": [
    {
     "data": {
      "text/plain": [
       "      fun: 492921099843.4104\n",
       " hess_inv: array([[ 3.50038572e-06, -2.28843078e-09, -5.73342395e-09],\n",
       "       [-2.28843078e-09,  1.18145138e-09, -6.44923004e-12],\n",
       "       [-5.73342395e-09, -6.44923004e-12,  2.78798271e-09]])\n",
       "      jac: array([      0.,   -4096., -131072.])\n",
       "  message: 'Desired error not necessarily achieved due to precision loss.'\n",
       "     nfev: 261\n",
       "      nit: 15\n",
       "     njev: 63\n",
       "   status: 2\n",
       "  success: False\n",
       "        x: array([ 1.02102745e+06,  7.27828576e+04, -7.81625174e+02])"
      ]
     },
     "execution_count": 21,
     "metadata": {},
     "output_type": "execute_result"
    }
   ],
   "source": [
    "# grado 2\n",
    "beta_inicial_2 = np.random.rand(3)\n",
    "X_2 = np.hstack((ones, x_1, x_2))\n",
    "funcion_de_costo_2(beta_inicial_2, X_2, y)\n",
    "\n",
    "sol_2 = opt.minimize(funcion_de_costo_2,\n",
    "                   beta_inicial_2,\n",
    "                   args=(X_2,y))\n",
    "sol_2"
   ]
  },
  {
   "cell_type": "code",
   "execution_count": 22,
   "metadata": {},
   "outputs": [
    {
     "data": {
      "text/plain": [
       "      fun: 441782327467.31213\n",
       " hess_inv: array([[ 1.05164029e-02, -5.06724973e-09, -1.86166303e-05,\n",
       "         2.63762816e-07],\n",
       "       [-5.06724973e-09,  1.23945298e-09, -4.86897606e-11,\n",
       "         4.87607567e-13],\n",
       "       [-1.86166303e-05, -4.86897606e-11,  1.07347997e-07,\n",
       "        -1.79329337e-09],\n",
       "       [ 2.63762816e-07,  4.87607567e-13, -1.79329337e-09,\n",
       "         3.09244130e-11]])\n",
       "      jac: array([      0.,       0.,   20480., 1257472.])\n",
       "  message: 'Desired error not necessarily achieved due to precision loss.'\n",
       "     nfev: 362\n",
       "      nit: 11\n",
       "     njev: 70\n",
       "   status: 2\n",
       "  success: False\n",
       "        x: array([ 1.08839088e+06,  5.98654880e+04, -2.81164942e+02, -5.13207990e+00])"
      ]
     },
     "execution_count": 22,
     "metadata": {},
     "output_type": "execute_result"
    }
   ],
   "source": [
    "# grado 3\n",
    "beta_inicial_3 = np.random.rand(4)\n",
    "X_3 = np.hstack((ones, x_1, x_2, x_3))\n",
    "funcion_de_costo_3(beta_inicial_3, X_3, y)\n",
    "\n",
    "sol_3 = opt.minimize(funcion_de_costo_3,\n",
    "                   beta_inicial_3,\n",
    "                   args=(X_3,y))\n",
    "sol_3"
   ]
  },
  {
   "cell_type": "code",
   "execution_count": 23,
   "metadata": {},
   "outputs": [],
   "source": [
    "y_pred_1n = 1562503.98901133 + 21986.82772328*x\n",
    "y_pred_2n = 1.02101640e+06 + 7.27828622e+04*x + -7.81620699e+02*x**2\n",
    "y_pred_3n = 1.08872095e+06 + 5.98278427e+04*x + -2.80028350e+02*x**2 + -5.14222267*x**3"
   ]
  },
  {
   "cell_type": "code",
   "execution_count": 24,
   "metadata": {},
   "outputs": [
    {
     "data": {
      "image/png": "[encoded data removed]",
      "text/plain": [
       "<Figure size 432x288 with 1 Axes>"
      ]
     },
     "metadata": {
      "needs_background": "light"
     },
     "output_type": "display_data"
    }
   ],
   "source": [
    "plt.figure()\n",
    "plt.scatter(x,y)\n",
    "plt.plot(x, y_pred_1n, \"r\")\n",
    "plt.plot(x, y_pred_2n, \"g\")\n",
    "plt.plot(x, y_pred_3n, \"b\") \n",
    "plt.grid()"
   ]
  },
  {
   "cell_type": "code",
   "execution_count": null,
   "metadata": {},
   "outputs": [],
   "source": []
  }
 ],
 "metadata": {
  "kernelspec": {
   "display_name": "Python 3 (ipykernel)",
   "language": "python",
   "name": "python3"
  },
  "language_info": {
   "codemirror_mode": {
    "name": "ipython",
    "version": 3
   },
   "file_extension": ".py",
   "mimetype": "text/x-python",
   "name": "python",
   "nbconvert_exporter": "python",
   "pygments_lexer": "ipython3",
   "version": "3.9.12"
  }
 },
 "nbformat": 4,
 "nbformat_minor": 2
}
